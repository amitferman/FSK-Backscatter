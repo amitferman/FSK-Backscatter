{
 "cells": [
  {
   "cell_type": "code",
   "execution_count": 1,
   "metadata": {},
   "outputs": [],
   "source": [
    "import channel\n",
    "import utils\n",
    "import numpy as np\n",
    "np.set_printoptions(precision = 2)"
   ]
  },
  {
   "cell_type": "code",
   "execution_count": 2,
   "metadata": {},
   "outputs": [],
   "source": [
    "# Read plaintext payload from disk.\n",
    "with open(\"payload_1.txt\", \"r\") as file:\n",
    "    data_str = file.read()"
   ]
  },
  {
   "cell_type": "code",
   "execution_count": 3,
   "metadata": {},
   "outputs": [],
   "source": [
    "# Convert to bits per ASCII.\n",
    "data_bits = utils.string_to_bits(data_str)\n",
    "\n",
    "# Construct packet stream, each with structure:\n",
    "#   10101010...Hamming(data_bits)...Hamming(CRC-8(data_bits)))\n",
    "packets = channel.encode_packet_stream(data_bits)\n",
    "\n",
    "# Concatenate packet bits.\n",
    "packet_bits = ''.join(packets)"
   ]
  },
  {
   "cell_type": "code",
   "execution_count": 4,
   "metadata": {},
   "outputs": [],
   "source": [
    "# Save packet bits to file.\n",
    "with open(\"packets_1.txt\", 'w') as file:\n",
    "        file.write(','.join(packet_bits))"
   ]
  },
  {
   "cell_type": "code",
   "execution_count": null,
   "metadata": {},
   "outputs": [],
   "source": []
  },
  {
   "cell_type": "code",
   "execution_count": 5,
   "metadata": {},
   "outputs": [
    {
     "name": "stdout",
     "output_type": "stream",
     "text": [
      "Matched on index 0\n",
      "Decoded with 0 corrections.\n",
      "Matched on index 50\n",
      "Decoded with 0 corrections.\n",
      "Matched on index 100\n",
      "Decoded with 0 corrections.\n",
      "Matched on index 150\n",
      "Decoded with 0 corrections.\n",
      "Matched on index 200\n",
      "Decoded with 0 corrections.\n",
      "Matched on index 250\n",
      "Decoded with 0 corrections.\n",
      "Matched on index 300\n",
      "Decoded with 0 corrections.\n",
      "Matched on index 350\n",
      "Decoded with 0 corrections.\n"
     ]
    }
   ],
   "source": [
    "# Sanity check\n",
    "decoded_packets = channel.decode_packet_stream(packet_bits)"
   ]
  }
 ],
 "metadata": {
  "kernelspec": {
   "display_name": "base",
   "language": "python",
   "name": "python3"
  },
  "language_info": {
   "codemirror_mode": {
    "name": "ipython",
    "version": 3
   },
   "file_extension": ".py",
   "mimetype": "text/x-python",
   "name": "python",
   "nbconvert_exporter": "python",
   "pygments_lexer": "ipython3",
   "version": "3.9.12"
  },
  "orig_nbformat": 4
 },
 "nbformat": 4,
 "nbformat_minor": 2
}
