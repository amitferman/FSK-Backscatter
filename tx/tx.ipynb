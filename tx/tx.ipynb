{
 "cells": [
  {
   "cell_type": "code",
   "execution_count": 1,
   "metadata": {},
   "outputs": [],
   "source": [
    "import SoapySDR\n",
    "from SoapySDR import *\n",
    "import numpy as np\n",
    "import signal\n"
   ]
  },
  {
   "cell_type": "code",
   "execution_count": 2,
   "metadata": {},
   "outputs": [
    {
     "name": "stdout",
     "output_type": "stream",
     "text": [
      "Antennas:  ('TX/RX',)\n",
      "Gains:  ('LNA', 'AMP', 'VGA')\n",
      "Min/Max Freqs: \n",
      "0, 7.25e+09\n"
     ]
    }
   ],
   "source": [
    "args = dict(driver=\"hackrf\")\n",
    "sdr = SoapySDR.Device(args)\n",
    "\n",
    "print(\"Antennas: \", sdr.listAntennas(SOAPY_SDR_RX, 0))\n",
    "print(\"Gains: \", sdr.listGains(SOAPY_SDR_RX, 0))\n",
    "print(\"Min/Max Freqs: \")\n",
    "freqs = sdr.getFrequencyRange(SOAPY_SDR_RX, 0)\n",
    "for freq in freqs:\n",
    "    print(freq)\n"
   ]
  },
  {
   "cell_type": "code",
   "execution_count": 3,
   "metadata": {},
   "outputs": [
    {
     "name": "stdout",
     "output_type": "stream",
     "text": [
      "IQ data (first 2 samples):  [0.01574803+0.00787402j 0.00787402+0.00787402j]\n",
      "num samples or error code:  1024\n",
      "flags set by receive operation:  0\n",
      "timestamp for receive buffer:  0\n"
     ]
    }
   ],
   "source": [
    "# receive example\n",
    "rxStream = sdr.setupStream(SOAPY_SDR_RX, SOAPY_SDR_CF32)\n",
    "sdr.activateStream(rxStream)\n",
    "buff = np.array([0]*1024, np.complex64)\n",
    "sr = sdr.readStream(rxStream, [buff], len(buff))\n",
    "print(\"IQ data (first 2 samples): \", buff[0:2])\n",
    "print(\"num samples or error code: \", sr.ret)\n",
    "print(\"flags set by receive operation: \", sr.flags)\n",
    "print(\"timestamp for receive buffer: \", sr.timeNs)\n",
    "sdr.deactivateStream(rxStream)\n",
    "sdr.closeStream(rxStream)"
   ]
  },
  {
   "cell_type": "code",
   "execution_count": 4,
   "metadata": {},
   "outputs": [
    {
     "data": {
      "text/plain": [
       "<function _signal.default_int_handler>"
      ]
     },
     "execution_count": 4,
     "metadata": {},
     "output_type": "execute_result"
    }
   ],
   "source": [
    "state = dict(running=True)\n",
    "def signal_handler(signum, _):\n",
    "        print('Signal handler called with signal {}'.format(signum))\n",
    "        state['running'] = False\n",
    "\n",
    "signal.signal(signal.SIGINT, signal_handler)"
   ]
  },
  {
   "cell_type": "code",
   "execution_count": 5,
   "metadata": {},
   "outputs": [
    {
     "ename": "TypeError",
     "evalue": "in method 'Device_writeStream__', argument 2 of type 'SoapySDR::Stream *'",
     "output_type": "error",
     "traceback": [
      "\u001b[1;31m---------------------------------------------------------------------------\u001b[0m",
      "\u001b[1;31mTypeError\u001b[0m                                 Traceback (most recent call last)",
      "\u001b[1;32mc:\\Users\\amitf\\OneDrive\\Documents\\UW 2022-2023\\Spring 2023\\CSE 493\\BLE Backscatter\\tx.ipynb Cell 5\u001b[0m in \u001b[0;36m<cell line: 16>\u001b[1;34m()\u001b[0m\n\u001b[0;32m     <a href='vscode-notebook-cell:/c%3A/Users/amitf/OneDrive/Documents/UW%202022-2023/Spring%202023/CSE%20493/BLE%20Backscatter/tx.ipynb#W3sZmlsZQ%3D%3D?line=13'>14</a>\u001b[0m tx_data \u001b[39m=\u001b[39m [\u001b[39m0\u001b[39m] \u001b[39m*\u001b[39m \u001b[39m1024\u001b[39m\n\u001b[0;32m     <a href='vscode-notebook-cell:/c%3A/Users/amitf/OneDrive/Documents/UW%202022-2023/Spring%202023/CSE%20493/BLE%20Backscatter/tx.ipynb#W3sZmlsZQ%3D%3D?line=15'>16</a>\u001b[0m \u001b[39mwhile\u001b[39;00m state[\u001b[39m\"\u001b[39m\u001b[39mrunning\u001b[39m\u001b[39m\"\u001b[39m]:\n\u001b[1;32m---> <a href='vscode-notebook-cell:/c%3A/Users/amitf/OneDrive/Documents/UW%202022-2023/Spring%202023/CSE%20493/BLE%20Backscatter/tx.ipynb#W3sZmlsZQ%3D%3D?line=16'>17</a>\u001b[0m     sdr\u001b[39m.\u001b[39;49mwriteStream(SoapySDR\u001b[39m.\u001b[39;49mSOAPY_SDR_TX, [tx_chan], [tx_data], \u001b[39mlen\u001b[39;49m(tx_data))\n\u001b[0;32m     <a href='vscode-notebook-cell:/c%3A/Users/amitf/OneDrive/Documents/UW%202022-2023/Spring%202023/CSE%20493/BLE%20Backscatter/tx.ipynb#W3sZmlsZQ%3D%3D?line=18'>19</a>\u001b[0m sdr\u001b[39m.\u001b[39mdeactivateStream(tx_stream)\n\u001b[0;32m     <a href='vscode-notebook-cell:/c%3A/Users/amitf/OneDrive/Documents/UW%202022-2023/Spring%202023/CSE%20493/BLE%20Backscatter/tx.ipynb#W3sZmlsZQ%3D%3D?line=19'>20</a>\u001b[0m sdr\u001b[39m.\u001b[39mcloseStream(tx_stream)\n",
      "File \u001b[1;32mC:\\Program Files\\PothosSDR\\lib\\python3.9\\site-packages\\SoapySDR.py:1836\u001b[0m, in \u001b[0;36mDevice.writeStream\u001b[1;34m(self, stream, buffs, numElems, flags, timeNs, timeoutUs)\u001b[0m\n\u001b[0;32m   1834\u001b[0m \u001b[39mdef\u001b[39;00m \u001b[39mwriteStream\u001b[39m(\u001b[39mself\u001b[39m, stream, buffs, numElems, flags \u001b[39m=\u001b[39m \u001b[39m0\u001b[39m, timeNs \u001b[39m=\u001b[39m \u001b[39m0\u001b[39m, timeoutUs \u001b[39m=\u001b[39m \u001b[39m100000\u001b[39m):\n\u001b[0;32m   1835\u001b[0m     ptrs \u001b[39m=\u001b[39m [extractBuffPointer(b) \u001b[39mfor\u001b[39;00m b \u001b[39min\u001b[39;00m buffs]\n\u001b[1;32m-> 1836\u001b[0m     \u001b[39mreturn\u001b[39;00m \u001b[39mself\u001b[39;49m\u001b[39m.\u001b[39;49mwriteStream__(stream, ptrs, numElems, flags, timeNs, timeoutUs)\n",
      "File \u001b[1;32mC:\\Program Files\\PothosSDR\\lib\\python3.9\\site-packages\\SoapySDR.py:1814\u001b[0m, in \u001b[0;36mDevice.writeStream__\u001b[1;34m(self, stream, buffs, numElems, flags, timeNs, timeoutUs)\u001b[0m\n\u001b[0;32m   1813\u001b[0m \u001b[39mdef\u001b[39;00m \u001b[39mwriteStream__\u001b[39m(\u001b[39mself\u001b[39m, stream, buffs, numElems, flags, timeNs, timeoutUs):\n\u001b[1;32m-> 1814\u001b[0m     \u001b[39mreturn\u001b[39;00m _SoapySDR\u001b[39m.\u001b[39;49mDevice_writeStream__(\u001b[39mself\u001b[39;49m, stream, buffs, numElems, flags, timeNs, timeoutUs)\n",
      "\u001b[1;31mTypeError\u001b[0m: in method 'Device_writeStream__', argument 2 of type 'SoapySDR::Stream *'"
     ]
    }
   ],
   "source": [
    "tx_chan = 0\n",
    "tx_sps = 10e6       # 10MHz  sampling rate\n",
    "freq = 900e6   # 900Mhz center frequency\n",
    "tx_gain = 0         # 0db\n",
    "\n",
    "\n",
    "sdr.setSampleRate(SOAPY_SDR_TX, tx_chan, tx_sps)\n",
    "sdr.setFrequency(SOAPY_SDR_TX, tx_chan, freq)\n",
    "sdr.setGain(SoapySDR.SOAPY_SDR_TX, tx_chan, tx_gain)\n",
    "\n",
    "tx_stream = sdr.setupStream(SOAPY_SDR_TX, SOAPY_SDR_CF32, [tx_chan])\n",
    "sdr.activateStream(tx_stream)\n",
    "\n",
    "tx_data = [1 + 0j] * 1024\n",
    "\n",
    "while state[\"running\"]:\n",
    "    sdr.writeStream(SoapySDR.SOAPY_SDR_TX, [tx_chan], [tx_data], len(tx_data))\n",
    "\n",
    "sdr.deactivateStream(tx_stream)\n",
    "sdr.closeStream(tx_stream)"
   ]
  },
  {
   "cell_type": "code",
   "execution_count": null,
   "metadata": {},
   "outputs": [],
   "source": [
    "# import SoapySDR\n",
    "\n",
    "# # Open the SDR device\n",
    "# sdr = SoapySDR.Device(dict(driver=\"your_device_driver\"))\n",
    "\n",
    "# # Set the transmit sample rate\n",
    "# sdr.setSampleRate(SoapySDR.SOAPY_SDR_TX, 10e6)\n",
    "\n",
    "# # Set the transmit center frequency\n",
    "# freq = 900e6\n",
    "# sdr.setFrequency(SoapySDR.SOAPY_SDR_TX, 0, freq)\n",
    "\n",
    "# # Set the transmit gain\n",
    "# gain = 30\n",
    "# sdr.setGain(SoapySDR.SOAPY_SDR_TX, 0, gain)\n",
    "\n",
    "# # Create a buffer of complex samples to transmit\n",
    "# num_samples = 1000\n",
    "# samples = [complex(1.0, 0.0)] * num_samples\n",
    "\n",
    "# # Transmit the samples\n",
    "# sdr.writeStream(\n",
    "#     SoapySDR.SOAPY_SDR_TX, # direction: TX\n",
    "#     0,                     # channel: 0\n",
    "#     samples,               # buffer of samples to transmit\n",
    "#     len(samples),          # number of samples to transmit\n",
    "#     timeoutUs=int(1e6),    # timeout in microseconds (optional)\n",
    "# )\n",
    "\n",
    "# # Close the SDR device\n",
    "# sdr.close()"
   ]
  }
 ],
 "metadata": {
  "kernelspec": {
   "display_name": "Python 3 (ipykernel)",
   "language": "python",
   "name": "python3"
  },
  "orig_nbformat": 4
 },
 "nbformat": 4,
 "nbformat_minor": 2
}
