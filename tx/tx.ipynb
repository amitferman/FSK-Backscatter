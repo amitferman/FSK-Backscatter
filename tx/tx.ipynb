{
 "cells": [
  {
   "cell_type": "code",
   "execution_count": 1,
   "metadata": {},
   "outputs": [],
   "source": [
    "import SoapySDR\n",
    "from SoapySDR import *\n",
    "import numpy as np\n",
    "import signal"
   ]
  },
  {
   "cell_type": "code",
   "execution_count": 2,
   "metadata": {},
   "outputs": [
    {
     "name": "stdout",
     "output_type": "stream",
     "text": [
      "Antennas:  ('TX/RX',)\n",
      "Gains:  ('LNA', 'AMP', 'VGA')\n",
      "Min/Max Freqs: \n",
      "0, 7.25e+09\n"
     ]
    }
   ],
   "source": [
    "args = dict(driver=\"hackrf\")\n",
    "sdr = SoapySDR.Device(args)\n",
    "\n",
    "print(\"Antennas: \", sdr.listAntennas(SOAPY_SDR_RX, 0))\n",
    "print(\"Gains: \", sdr.listGains(SOAPY_SDR_RX, 0))\n",
    "print(\"Min/Max Freqs: \")\n",
    "freqs = sdr.getFrequencyRange(SOAPY_SDR_RX, 0)\n",
    "for freq in freqs:\n",
    "    print(freq)\n"
   ]
  },
  {
   "cell_type": "code",
   "execution_count": 3,
   "metadata": {},
   "outputs": [
    {
     "name": "stdout",
     "output_type": "stream",
     "text": [
      "IQ data (first 2 samples):  [0.00787402+0.00787402j 0.00787402+0.j        ]\n",
      "num samples or error code:  1024\n",
      "flags set by receive operation:  0\n",
      "timestamp for receive buffer:  0\n"
     ]
    }
   ],
   "source": [
    "# receive example\n",
    "rxStream = sdr.setupStream(SOAPY_SDR_RX, SOAPY_SDR_CF32)\n",
    "sdr.activateStream(rxStream)\n",
    "buff = np.array([0]*1024, np.complex64)\n",
    "sr = sdr.readStream(rxStream, [buff], len(buff))\n",
    "print(\"IQ data (first 2 samples): \", buff[0:2])\n",
    "print(\"num samples or error code: \", sr.ret)\n",
    "print(\"flags set by receive operation: \", sr.flags)\n",
    "print(\"timestamp for receive buffer: \", sr.timeNs)\n",
    "sdr.deactivateStream(rxStream)\n",
    "sdr.closeStream(rxStream)"
   ]
  },
  {
   "cell_type": "code",
   "execution_count": 4,
   "metadata": {},
   "outputs": [],
   "source": [
    "tx_chan = 0\n",
    "tx_sps = 10e6       # 10MHz  sampling rate\n",
    "freq = 905e6        # 910Mhz center frequency\n",
    "# tx_gain = 0       # 0db\n",
    "\n",
    "\n",
    "sdr.setSampleRate(SOAPY_SDR_TX, tx_chan, tx_sps)\n",
    "sdr.setFrequency(SOAPY_SDR_TX, tx_chan, freq)\n",
    "# sdr.setGain(SoapySDR.SOAPY_SDR_TX, tx_chan, tx_gain)\n",
    "\n",
    "tx_stream = sdr.setupStream(SOAPY_SDR_TX, SOAPY_SDR_CF32, [tx_chan])\n",
    "sdr.activateStream(tx_stream)\n",
    "\n",
    "tx_data = np.repeat(np.array(1 + 0j), 1024)\n",
    "\n",
    "while True:\n",
    "    sdr.writeStream(tx_stream, [tx_data], tx_data.size)\n",
    "\n",
    "sdr.deactivateStream(tx_stream)\n",
    "sdr.closeStream(tx_stream)"
   ]
  },
  {
   "cell_type": "code",
   "execution_count": null,
   "metadata": {},
   "outputs": [],
   "source": [
    "# import SoapySDR\n",
    "\n",
    "# # Open the SDR device\n",
    "# sdr = SoapySDR.Device(dict(driver=\"your_device_driver\"))\n",
    "\n",
    "# # Set the transmit sample rate\n",
    "# sdr.setSampleRate(SoapySDR.SOAPY_SDR_TX, 10e6)\n",
    "\n",
    "# # Set the transmit center frequency\n",
    "# freq = 900e6\n",
    "# sdr.setFrequency(SoapySDR.SOAPY_SDR_TX, 0, freq)\n",
    "\n",
    "# # Set the transmit gain\n",
    "# gain = 30\n",
    "# sdr.setGain(SoapySDR.SOAPY_SDR_TX, 0, gain)\n",
    "\n",
    "# # Create a buffer of complex samples to transmit\n",
    "# num_samples = 1000\n",
    "# samples = [complex(1.0, 0.0)] * num_samples\n",
    "\n",
    "# # Transmit the samples\n",
    "# sdr.writeStream(\n",
    "#     SoapySDR.SOAPY_SDR_TX, # direction: TX\n",
    "#     0,                     # channel: 0\n",
    "#     samples,               # buffer of samples to transmit\n",
    "#     len(samples),          # number of samples to transmit\n",
    "#     timeoutUs=int(1e6),    # timeout in microseconds (optional)\n",
    "# )\n",
    "\n",
    "# # Close the SDR device\n",
    "# sdr.close()"
   ]
  },
  {
   "cell_type": "code",
   "execution_count": null,
   "metadata": {},
   "outputs": [],
   "source": []
  }
 ],
 "metadata": {
  "kernelspec": {
   "display_name": "Python 3 (ipykernel)",
   "language": "python",
   "name": "python3"
  },
  "language_info": {
   "codemirror_mode": {
    "name": "ipython",
    "version": 3
   },
   "file_extension": ".py",
   "mimetype": "text/x-python",
   "name": "python",
   "nbconvert_exporter": "python",
   "pygments_lexer": "ipython3",
   "version": "3.9.12"
  },
  "orig_nbformat": 4
 },
 "nbformat": 4,
 "nbformat_minor": 2
}
